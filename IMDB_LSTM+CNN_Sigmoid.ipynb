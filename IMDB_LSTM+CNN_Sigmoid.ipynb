{
  "nbformat": 4,
  "nbformat_minor": 0,
  "metadata": {
    "colab": {
      "name": "IMDB_LSTM+CNN_Sigmoid.ipynb",
      "version": "0.3.2",
      "provenance": []
    },
    "kernelspec": {
      "name": "python3",
      "display_name": "Python 3"
    }
  },
  "cells": [
    {
      "cell_type": "markdown",
      "metadata": {
        "id": "CKR35FwWWHMR",
        "colab_type": "text"
      },
      "source": [
        "<h2> IMDB dataset을 이용한 CNN + LSTM( 순환 컨볼루션 신경망 모델)</h2>\n",
        "\n",
        "<h3> 0. 기본 소개 </h3>\n",
        "\n",
        "<h3>DataSet: IMDB</h3>\n",
        "\n",
        "\n",
        "IMDB는 Internet Movie DataBase을 뜻하며 영화에 대한 리뷰 데이터, 총 5만개의 리뷰로 이루어져 있고 훈련 데이터와 검증데이터를 각각 25000개씩 각각 50대50의 긍정리뷰와 부정리뷰를 가지고 있다.\n",
        "  \n",
        "<h3>CNN + LSTM (RCNN)</h3>\n",
        "\n",
        "DCNN이 컴퓨터 비전 문제를 해결할 수 있는 좋은 모델로 평가받는다. 하지만 시각에 대한 안정성은 독립적인 것이 아닌 시간에 따라 발생하는 것이기 때문에, 시계열 데이터에 대한 연속적 예측이 필요성이 제기됨에 따라,  네트워크 구조가 이미지에서 시계열을 인식하도록 설계된 새로운 신경망 모델인 RCNN이 탄생하게 되었다.\n",
        "\n",
        "RCNN은 시계열 label 생성이 가능하고, 단어 인식하는 측면에서 이전의 모델들 보다 훨씬 우수한 성능을 보유하고 있다, 또한<b> DCNN보다 훨씬 적은 매개변수를 필요로 하기 때문에, 차지하는 저장공간이 줄어들어서 효율적</b>이다."
      ]
    },
    {
      "cell_type": "code",
      "metadata": {
        "id": "63J9z0myWfaq",
        "colab_type": "code",
        "colab": {
          "base_uri": "https://localhost:8080/",
          "height": 36
        },
        "outputId": "058c9233-52cb-4fb1-ebbe-9a6633f918c4"
      },
      "source": [
        "from keras.datasets import imdb\n",
        "from keras.preprocessing import sequence\n",
        "from keras.models import Sequential\n",
        "from keras.layers import Dense, Embedding, LSTM\n",
        "from keras.layers import Flatten, Dropout\n",
        "from keras.layers import Conv1D, MaxPooling1D"
      ],
      "execution_count": 1,
      "outputs": [
        {
          "output_type": "stream",
          "text": [
            "Using TensorFlow backend.\n"
          ],
          "name": "stderr"
        }
      ]
    },
    {
      "cell_type": "markdown",
      "metadata": {
        "id": "DFwpgpolXSnP",
        "colab_type": "text"
      },
      "source": [
        "<h3>-> 사용할 패키지 불러오기</h3>"
      ]
    },
    {
      "cell_type": "code",
      "metadata": {
        "id": "_ZJx8Ik3WlwZ",
        "colab_type": "code",
        "colab": {}
      },
      "source": [
        "max_features = 20000\n",
        "text_max_words = 200"
      ],
      "execution_count": 0,
      "outputs": []
    },
    {
      "cell_type": "markdown",
      "metadata": {
        "id": "uYWsjZiGXauB",
        "colab_type": "text"
      },
      "source": [
        "<h3> -> 데이터셋 생성하기</h3>"
      ]
    },
    {
      "cell_type": "code",
      "metadata": {
        "id": "tQS-HHuUW6ex",
        "colab_type": "code",
        "colab": {}
      },
      "source": [
        "# 1\n",
        "(x_train, y_train), (x_test, y_test) = imdb.load_data(num_words=max_features)\n",
        "\n",
        "# 2 \n",
        "x_val = x_train[20000:]\n",
        "y_val = y_train[20000:]\n",
        "x_train = x_train[:20000]\n",
        "y_train = y_train[:20000]\n",
        "\n",
        "# 3 \n",
        "x_train = sequence.pad_sequences(x_train, maxlen=text_max_words)\n",
        "x_val = sequence.pad_sequences(x_val, maxlen=text_max_words)\n",
        "x_test = sequence.pad_sequences(x_test, maxlen=text_max_words)"
      ],
      "execution_count": 0,
      "outputs": []
    },
    {
      "cell_type": "markdown",
      "metadata": {
        "id": "F7C1jIt7Xeab",
        "colab_type": "text"
      },
      "source": [
        "\n",
        "\n",
        "<h3> -> 1.훈련셋과 시험셋 불러오기</h3>\n",
        "<h3> -> 2. 훈련셋과 검증셋 분리 </h3>\n",
        "<h3> -> 3. 데이터셋 전처리 : 문장 길이 맞추기 </h3>\n"
      ]
    },
    {
      "cell_type": "code",
      "metadata": {
        "id": "25M4KoiFXFda",
        "colab_type": "code",
        "colab": {
          "base_uri": "https://localhost:8080/",
          "height": 299
        },
        "outputId": "31d5f262-a6cb-4614-ed94-956ef10d9776"
      },
      "source": [
        "model = Sequential()\n",
        "model.add(Embedding(max_features, 128, input_length=text_max_words))\n",
        "model.add(Dropout(0.2))\n",
        "model.add(Conv1D(256,\n",
        "                 3,\n",
        "                 padding='valid',\n",
        "                 activation='relu',\n",
        "                 strides=1))\n",
        "model.add(MaxPooling1D(pool_size=4))\n",
        "model.add(LSTM(128))\n",
        "model.add(Dense(1, activation='sigmoid'))"
      ],
      "execution_count": 4,
      "outputs": [
        {
          "output_type": "stream",
          "text": [
            "WARNING: Logging before flag parsing goes to stderr.\n",
            "W0805 01:47:48.045633 140344763688832 deprecation_wrapper.py:119] From /usr/local/lib/python3.6/dist-packages/keras/backend/tensorflow_backend.py:74: The name tf.get_default_graph is deprecated. Please use tf.compat.v1.get_default_graph instead.\n",
            "\n",
            "W0805 01:47:48.118731 140344763688832 deprecation_wrapper.py:119] From /usr/local/lib/python3.6/dist-packages/keras/backend/tensorflow_backend.py:517: The name tf.placeholder is deprecated. Please use tf.compat.v1.placeholder instead.\n",
            "\n",
            "W0805 01:47:48.129710 140344763688832 deprecation_wrapper.py:119] From /usr/local/lib/python3.6/dist-packages/keras/backend/tensorflow_backend.py:4138: The name tf.random_uniform is deprecated. Please use tf.random.uniform instead.\n",
            "\n",
            "W0805 01:47:48.212608 140344763688832 deprecation_wrapper.py:119] From /usr/local/lib/python3.6/dist-packages/keras/backend/tensorflow_backend.py:133: The name tf.placeholder_with_default is deprecated. Please use tf.compat.v1.placeholder_with_default instead.\n",
            "\n",
            "W0805 01:47:48.289386 140344763688832 deprecation.py:506] From /usr/local/lib/python3.6/dist-packages/keras/backend/tensorflow_backend.py:3445: calling dropout (from tensorflow.python.ops.nn_ops) with keep_prob is deprecated and will be removed in a future version.\n",
            "Instructions for updating:\n",
            "Please use `rate` instead of `keep_prob`. Rate should be set to `rate = 1 - keep_prob`.\n",
            "W0805 01:47:48.476420 140344763688832 deprecation_wrapper.py:119] From /usr/local/lib/python3.6/dist-packages/keras/backend/tensorflow_backend.py:3976: The name tf.nn.max_pool is deprecated. Please use tf.nn.max_pool2d instead.\n",
            "\n"
          ],
          "name": "stderr"
        }
      ]
    },
    {
      "cell_type": "markdown",
      "metadata": {
        "id": "ZFErqzk4XzUe",
        "colab_type": "text"
      },
      "source": [
        "<h3> -> 모델 구성하기 </h3>\n",
        "\n",
        "<b>Embedding</b>\n",
        "\n",
        "Embedding은 범주형 자료를 연속적 벡터 형태로 변환시키는 것을 말한다. 단어를 n차원의 벡터로 매핑시켜준다\n",
        "\n",
        "<b>Dropout</b>\n",
        "\n",
        "망의 크기가 커질 경우, Overfitting의 문제를 해결하기 위해서, 망에 있는 모든 layer를 학습 시키는 것이 아닌, 같은 망에 있는 입력 레이어나 히든 레이어의 일부 뉴런을 생략하고 줄여 효율적인 신경망 학습을 수행하도록 해준다.\n",
        "\n",
        "<b>Conv1D</b>\n",
        "\n",
        "합성곱(Convolution) 연산을 수행하는 역할을 한다. 1차원 상에서 CNN의 중요 레이어중 하나인 Convolutional 레이어의 연산을 수행해준다.\n",
        "\n",
        "<b> MaxPooling1D</b>\n",
        "\n",
        "Pooling이란, Conv연산을 거쳐서 나온 activation maps가 있을 때, 이를 이루는 Conv 레이어를 resizing하여 새로운 레이어를 얻는다. MaxPooling은 최댓값을 뽑아내준다."
      ]
    },
    {
      "cell_type": "code",
      "metadata": {
        "id": "MkUrpGMdXDh_",
        "colab_type": "code",
        "colab": {
          "base_uri": "https://localhost:8080/",
          "height": 1000
        },
        "outputId": "b5d8362a-eaf2-4c1e-9c3c-3eb0d66b80ac"
      },
      "source": [
        "model.compile(loss='binary_crossentropy', optimizer='adam', metrics=['accuracy'])\n",
        "\n",
        "hist = model.fit(x_train, y_train, epochs=25, batch_size=64, validation_data=(x_val, y_val))\n"
      ],
      "execution_count": 5,
      "outputs": [
        {
          "output_type": "stream",
          "text": [
            "W0805 01:47:54.933673 140344763688832 deprecation_wrapper.py:119] From /usr/local/lib/python3.6/dist-packages/keras/optimizers.py:790: The name tf.train.Optimizer is deprecated. Please use tf.compat.v1.train.Optimizer instead.\n",
            "\n",
            "W0805 01:47:55.057881 140344763688832 deprecation_wrapper.py:119] From /usr/local/lib/python3.6/dist-packages/keras/backend/tensorflow_backend.py:3376: The name tf.log is deprecated. Please use tf.math.log instead.\n",
            "\n",
            "W0805 01:47:55.079765 140344763688832 deprecation.py:323] From /usr/local/lib/python3.6/dist-packages/tensorflow/python/ops/nn_impl.py:180: add_dispatch_support.<locals>.wrapper (from tensorflow.python.ops.array_ops) is deprecated and will be removed in a future version.\n",
            "Instructions for updating:\n",
            "Use tf.where in 2.0, which has the same broadcast rule as np.where\n"
          ],
          "name": "stderr"
        },
        {
          "output_type": "stream",
          "text": [
            "Train on 20000 samples, validate on 5000 samples\n",
            "Epoch 1/25\n",
            "20000/20000 [==============================] - 366s 18ms/step - loss: 0.4090 - acc: 0.7973 - val_loss: 0.3220 - val_acc: 0.8642\n",
            "Epoch 2/25\n",
            "20000/20000 [==============================] - 360s 18ms/step - loss: 0.1893 - acc: 0.9288 - val_loss: 0.3613 - val_acc: 0.8500\n",
            "Epoch 3/25\n",
            "20000/20000 [==============================] - 358s 18ms/step - loss: 0.0971 - acc: 0.9673 - val_loss: 0.3776 - val_acc: 0.8710\n",
            "Epoch 4/25\n",
            "20000/20000 [==============================] - 362s 18ms/step - loss: 0.0474 - acc: 0.9859 - val_loss: 0.6639 - val_acc: 0.8516\n",
            "Epoch 5/25\n",
            "20000/20000 [==============================] - 361s 18ms/step - loss: 0.0401 - acc: 0.9867 - val_loss: 0.5873 - val_acc: 0.8676\n",
            "Epoch 6/25\n",
            "20000/20000 [==============================] - 360s 18ms/step - loss: 0.0192 - acc: 0.9947 - val_loss: 0.5999 - val_acc: 0.8618\n",
            "Epoch 7/25\n",
            "20000/20000 [==============================] - 360s 18ms/step - loss: 0.0171 - acc: 0.9947 - val_loss: 0.5669 - val_acc: 0.8570\n",
            "Epoch 8/25\n",
            "20000/20000 [==============================] - 358s 18ms/step - loss: 0.0171 - acc: 0.9946 - val_loss: 0.6754 - val_acc: 0.8602\n",
            "Epoch 9/25\n",
            "20000/20000 [==============================] - 358s 18ms/step - loss: 0.0129 - acc: 0.9960 - val_loss: 0.6992 - val_acc: 0.8438\n",
            "Epoch 10/25\n",
            "20000/20000 [==============================] - 359s 18ms/step - loss: 0.0122 - acc: 0.9960 - val_loss: 0.6579 - val_acc: 0.8546\n",
            "Epoch 11/25\n",
            "20000/20000 [==============================] - 336s 17ms/step - loss: 0.0150 - acc: 0.9952 - val_loss: 0.6910 - val_acc: 0.8606\n",
            "Epoch 12/25\n",
            "20000/20000 [==============================] - 228s 11ms/step - loss: 0.0077 - acc: 0.9976 - val_loss: 0.7129 - val_acc: 0.8556\n",
            "Epoch 13/25\n",
            "20000/20000 [==============================] - 229s 11ms/step - loss: 0.0059 - acc: 0.9981 - val_loss: 0.7700 - val_acc: 0.8628\n",
            "Epoch 14/25\n",
            "20000/20000 [==============================] - 228s 11ms/step - loss: 0.0071 - acc: 0.9978 - val_loss: 0.7958 - val_acc: 0.8576\n",
            "Epoch 15/25\n",
            "20000/20000 [==============================] - 229s 11ms/step - loss: 0.0091 - acc: 0.9970 - val_loss: 0.7876 - val_acc: 0.8632\n",
            "Epoch 16/25\n",
            "20000/20000 [==============================] - 228s 11ms/step - loss: 0.0039 - acc: 0.9992 - val_loss: 0.7923 - val_acc: 0.8496\n",
            "Epoch 17/25\n",
            "20000/20000 [==============================] - 229s 11ms/step - loss: 0.0042 - acc: 0.9987 - val_loss: 0.9336 - val_acc: 0.8598\n",
            "Epoch 18/25\n",
            "20000/20000 [==============================] - 228s 11ms/step - loss: 0.0156 - acc: 0.9940 - val_loss: 0.7192 - val_acc: 0.8460\n",
            "Epoch 19/25\n",
            "20000/20000 [==============================] - 228s 11ms/step - loss: 0.0097 - acc: 0.9965 - val_loss: 0.8014 - val_acc: 0.8628\n",
            "Epoch 20/25\n",
            "20000/20000 [==============================] - 228s 11ms/step - loss: 0.0020 - acc: 0.9992 - val_loss: 0.8753 - val_acc: 0.8604\n",
            "Epoch 21/25\n",
            "20000/20000 [==============================] - 229s 11ms/step - loss: 0.0083 - acc: 0.9972 - val_loss: 0.7627 - val_acc: 0.8632\n",
            "Epoch 22/25\n",
            "20000/20000 [==============================] - 229s 11ms/step - loss: 0.0044 - acc: 0.9985 - val_loss: 0.9045 - val_acc: 0.8598\n",
            "Epoch 23/25\n",
            "20000/20000 [==============================] - 229s 11ms/step - loss: 8.2200e-04 - acc: 0.9998 - val_loss: 0.9693 - val_acc: 0.8610\n",
            "Epoch 24/25\n",
            "20000/20000 [==============================] - 227s 11ms/step - loss: 0.0039 - acc: 0.9987 - val_loss: 1.0185 - val_acc: 0.8546\n",
            "Epoch 25/25\n",
            "20000/20000 [==============================] - 228s 11ms/step - loss: 0.0028 - acc: 0.9992 - val_loss: 0.8703 - val_acc: 0.8598\n"
          ],
          "name": "stdout"
        }
      ]
    },
    {
      "cell_type": "markdown",
      "metadata": {
        "id": "sbg5g0WhYRuN",
        "colab_type": "text"
      },
      "source": [
        "<h3>-> 모델 학습과정 설정하기</h3>\n",
        "model.compile(loss='binary_crossentropy', optimizer='adam', metrics=['accuracy'])\n",
        "\n",
        "<h3> ->모델 학습시키기 </h3>\n",
        "hist = model.fit(x_train, y_train, epochs=25, batch_size=64, validation_data=(x_val, y_val))\n"
      ]
    },
    {
      "cell_type": "code",
      "metadata": {
        "id": "zLEpOHdZXV3u",
        "colab_type": "code",
        "colab": {
          "base_uri": "https://localhost:8080/",
          "height": 283
        },
        "outputId": "4c238207-2f15-477c-b412-fc9095966661"
      },
      "source": [
        "%matplotlib inline\n",
        "import matplotlib.pyplot as plt\n",
        "\n",
        "fig, loss_ax = plt.subplots()\n",
        "\n",
        "acc_ax = loss_ax.twinx()\n",
        "\n",
        "loss_ax.plot(hist.history['loss'], 'y', label='train loss')\n",
        "loss_ax.plot(hist.history['val_loss'], 'r', label='val loss')\n",
        "loss_ax.set_ylim([-0.2, 1.2])\n",
        "\n",
        "acc_ax.plot(hist.history['acc'], 'b', label='train acc')\n",
        "acc_ax.plot(hist.history['val_acc'], 'g', label='val acc')\n",
        "acc_ax.set_ylim([-0.2, 1.2])\n",
        "\n",
        "loss_ax.set_xlabel('epoch')\n",
        "loss_ax.set_ylabel('loss')\n",
        "acc_ax.set_ylabel('accuray')\n",
        "\n",
        "loss_ax.legend(loc='upper left')\n",
        "acc_ax.legend(loc='lower left')\n",
        "\n",
        "plt.show()"
      ],
      "execution_count": 6,
      "outputs": [
        {
          "output_type": "display_data",
          "data": {
            "image/png": "[encoded data removed]",
            "text/plain": [
              "<Figure size 432x288 with 2 Axes>"
            ]
          },
          "metadata": {
            "tags": []
          }
        }
      ]
    },
    {
      "cell_type": "markdown",
      "metadata": {
        "id": "zTjnohSXYn_M",
        "colab_type": "text"
      },
      "source": [
        "<h3> ->훈련과 검증 손실 분석</h3>\n",
        "기존 LSTM, CNN모델과 val loss의 증가는 별 다르지 않게 증가 폭을 보였지만, LSTM보다는 완만한 증가 , CNN과 가까운 최종 val loss률을 보인다. "
      ]
    },
    {
      "cell_type": "code",
      "metadata": {
        "id": "3EGfMW4GKmZo",
        "colab_type": "code",
        "colab": {
          "base_uri": "https://localhost:8080/",
          "height": 73
        },
        "outputId": "b4e360eb-6601-4574-a22d-c8b79c6efc8a"
      },
      "source": [
        "# 6. 모델 평가하기\n",
        "loss_and_metrics = model.evaluate(x_test, y_test, batch_size=64)\n",
        "print('## evaluation loss and_metrics ##')\n",
        "print(loss_and_metrics)"
      ],
      "execution_count": 7,
      "outputs": [
        {
          "output_type": "stream",
          "text": [
            "25000/25000 [==============================] - 78s 3ms/step\n",
            "## evaluation loss and_metrics ##\n",
            "[1.046933840227127, 0.8327999999809265]\n"
          ],
          "name": "stdout"
        }
      ]
    },
    {
      "cell_type": "markdown",
      "metadata": {
        "id": "eFz7FoSDZS__",
        "colab_type": "text"
      },
      "source": [
        "<h3> 최종 정확도 83%</h3>"
      ]
    }
  ]
}