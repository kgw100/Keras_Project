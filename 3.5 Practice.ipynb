{
 "cells": [
  {
   "cell_type": "code",
   "execution_count": 1,
   "metadata": {},
   "outputs": [
    {
     "name": "stderr",
     "output_type": "stream",
     "text": [
      "Using TensorFlow backend.\n"
     ]
    },
    {
     "name": "stdout",
     "output_type": "stream",
     "text": [
      "Downloading data from https://s3.amazonaws.com/text-datasets/reuters.npz\n",
      "2113536/2110848 [==============================] - 1s 1us/step\n"
     ]
    }
   ],
   "source": [
    "from keras.datasets import reuters\n",
    "\n",
    "(train_data, train_labels), (test_data, test_labels) = reuters.load_data(num_words=10000)"
   ]
  },
  {
   "cell_type": "code",
   "execution_count": 2,
   "metadata": {},
   "outputs": [
    {
     "data": {
      "text/plain": [
       "8982"
      ]
     },
     "execution_count": 2,
     "metadata": {},
     "output_type": "execute_result"
    }
   ],
   "source": [
    "\n",
    "len(train_data)\n",
    "\n",
    "## 8983개의 훈련 샘플 "
   ]
  },
  {
   "cell_type": "code",
   "execution_count": 3,
   "metadata": {},
   "outputs": [
    {
     "data": {
      "text/plain": [
       "2246"
      ]
     },
     "execution_count": 3,
     "metadata": {},
     "output_type": "execute_result"
    }
   ],
   "source": [
    "\n",
    "len(test_data)\n",
    "\n",
    "##2246개의 테스트 샘플"
   ]
  },
  {
   "cell_type": "code",
   "execution_count": 4,
   "metadata": {},
   "outputs": [
    {
     "data": {
      "text/plain": [
       "[1,\n",
       " 245,\n",
       " 273,\n",
       " 207,\n",
       " 156,\n",
       " 53,\n",
       " 74,\n",
       " 160,\n",
       " 26,\n",
       " 14,\n",
       " 46,\n",
       " 296,\n",
       " 26,\n",
       " 39,\n",
       " 74,\n",
       " 2979,\n",
       " 3554,\n",
       " 14,\n",
       " 46,\n",
       " 4689,\n",
       " 4329,\n",
       " 86,\n",
       " 61,\n",
       " 3499,\n",
       " 4795,\n",
       " 14,\n",
       " 61,\n",
       " 451,\n",
       " 4329,\n",
       " 17,\n",
       " 12]"
      ]
     },
     "execution_count": 4,
     "metadata": {},
     "output_type": "execute_result"
    }
   ],
   "source": [
    "train_data[10]"
   ]
  },
  {
   "cell_type": "code",
   "execution_count": 5,
   "metadata": {},
   "outputs": [
    {
     "name": "stdout",
     "output_type": "stream",
     "text": [
      "Downloading data from https://s3.amazonaws.com/text-datasets/reuters_word_index.json\n",
      "557056/550378 [==============================] - 1s 2us/step\n"
     ]
    }
   ],
   "source": [
    "word_index = reuters.get_word_index()\n",
    "reverse_word_index = dict([(value, key) for (key, value) in word_index.items()])\n",
    "# 0, 1, 2는 '패딩', '문서 시작', '사전에 없음'을 위한 인덱스이므로 3을 뺍니다\n",
    "decoded_newswire = ' '.join([reverse_word_index.get(i - 3, '?') for i in train_data[0]])"
   ]
  },
  {
   "cell_type": "code",
   "execution_count": 6,
   "metadata": {},
   "outputs": [
    {
     "data": {
      "text/plain": [
       "'? ? ? said as a result of its december acquisition of space co it expects earnings per share in 1987 of 1 15 to 1 30 dlrs per share up from 70 cts in 1986 the company said pretax net should rise to nine to 10 mln dlrs from six mln dlrs in 1986 and rental operation revenues to 19 to 22 mln dlrs from 12 5 mln dlrs it said cash flow per share this year should be 2 50 to three dlrs reuter 3'"
      ]
     },
     "execution_count": 6,
     "metadata": {},
     "output_type": "execute_result"
    }
   ],
   "source": [
    "decoded_newswire"
   ]
  },
  {
   "cell_type": "code",
   "execution_count": 7,
   "metadata": {},
   "outputs": [
    {
     "data": {
      "text/plain": [
       "3"
      ]
     },
     "execution_count": 7,
     "metadata": {},
     "output_type": "execute_result"
    }
   ],
   "source": [
    "train_labels[10]"
   ]
  },
  {
   "cell_type": "code",
   "execution_count": 8,
   "metadata": {},
   "outputs": [],
   "source": [
    "import numpy as np\n",
    "\n",
    "def vectorize_sequences(sequences, dimension=10000):\n",
    "    results = np.zeros((len(sequences), dimension))\n",
    "    for i, sequence in enumerate(sequences):\n",
    "        results[i, sequence] = 1.\n",
    "    return results\n",
    "\n",
    "# 훈련 데이터 벡터 변환\n",
    "x_train = vectorize_sequences(train_data)\n",
    "# 테스트 데이터 벡터 변환\n",
    "x_test = vectorize_sequences(test_data)\n",
    "\n",
    "\n",
    "##레이블을 벡터롤 바꾸는 방법은 두 가지입니다. 레이블의 리스트를 정수 테넛로 변환하는 것 , 원-핫 인코딩을 사용하는 방법"
   ]
  },
  {
   "cell_type": "code",
   "execution_count": 9,
   "metadata": {},
   "outputs": [],
   "source": [
    "def to_one_hot(labels, dimension=46):\n",
    "    results = np.zeros((len(labels), dimension))\n",
    "    for i, label in enumerate(labels):\n",
    "        results[i, label] = 1.\n",
    "    return results\n",
    "\n",
    "# 훈련 레이블 벡터 변환\n",
    "one_hot_train_labels = to_one_hot(train_labels)\n",
    "# 테스트 레이블 벡터 변환\n",
    "one_hot_test_labels = to_one_hot(test_labels)\n",
    "\n",
    "##원-핫 인코딩\n"
   ]
  },
  {
   "cell_type": "code",
   "execution_count": 10,
   "metadata": {},
   "outputs": [],
   "source": [
    "from keras.utils.np_utils import to_categorical\n",
    "\n",
    "one_hot_train_labels = to_categorical(train_labels)\n",
    "one_hot_test_labels = to_categorical(test_labels)"
   ]
  },
  {
   "cell_type": "code",
   "execution_count": 11,
   "metadata": {},
   "outputs": [
    {
     "name": "stdout",
     "output_type": "stream",
     "text": [
      "WARNING:tensorflow:From C:\\Users\\rlaru\\Anaconda3\\lib\\site-packages\\tensorflow\\python\\framework\\op_def_library.py:263: colocate_with (from tensorflow.python.framework.ops) is deprecated and will be removed in a future version.\n",
      "Instructions for updating:\n",
      "Colocations handled automatically by placer.\n"
     ]
    }
   ],
   "source": [
    "from keras import models\n",
    "from keras import layers\n",
    "\n",
    "model = models.Sequential()\n",
    "model.add(layers.Dense(64, activation='relu', input_shape=(10000,)))\n",
    "model.add(layers.Dense(64, activation='relu'))\n",
    "model.add(layers.Dense(46, activation='softmax'))"
   ]
  },
  {
   "cell_type": "code",
   "execution_count": 12,
   "metadata": {},
   "outputs": [],
   "source": [
    "model.compile(optimizer='rmsprop',\n",
    "              loss='categorical_crossentropy',\n",
    "              metrics=['accuracy'])"
   ]
  },
  {
   "cell_type": "code",
   "execution_count": 13,
   "metadata": {},
   "outputs": [],
   "source": [
    "\n",
    "x_val = x_train[:1000]\n",
    "partial_x_train = x_train[1000:]\n",
    "\n",
    "y_val = one_hot_train_labels[:1000]\n",
    "partial_y_train = one_hot_train_labels[1000:]"
   ]
  },
  {
   "cell_type": "code",
   "execution_count": 14,
   "metadata": {},
   "outputs": [
    {
     "name": "stdout",
     "output_type": "stream",
     "text": [
      "WARNING:tensorflow:From C:\\Users\\rlaru\\Anaconda3\\lib\\site-packages\\tensorflow\\python\\ops\\math_ops.py:3066: to_int32 (from tensorflow.python.ops.math_ops) is deprecated and will be removed in a future version.\n",
      "Instructions for updating:\n",
      "Use tf.cast instead.\n",
      "Train on 7982 samples, validate on 1000 samples\n",
      "Epoch 1/20\n",
      "7982/7982 [==============================] - 9s 1ms/step - loss: 2.7191 - acc: 0.4957 - val_loss: 1.8005 - val_acc: 0.6240\n",
      "Epoch 2/20\n",
      "7982/7982 [==============================] - 4s 520us/step - loss: 1.4976 - acc: 0.6837 - val_loss: 1.3220 - val_acc: 0.7060\n",
      "Epoch 3/20\n",
      "7982/7982 [==============================] - 4s 533us/step - loss: 1.0858 - acc: 0.7695 - val_loss: 1.1261 - val_acc: 0.7520\n",
      "Epoch 4/20\n",
      "7982/7982 [==============================] - 4s 517us/step - loss: 0.8435 - acc: 0.8208 - val_loss: 1.0294 - val_acc: 0.7840\n",
      "Epoch 5/20\n",
      "7982/7982 [==============================] - 4s 524us/step - loss: 0.6673 - acc: 0.8598 - val_loss: 0.9861 - val_acc: 0.7860\n",
      "Epoch 6/20\n",
      "7982/7982 [==============================] - 4s 526us/step - loss: 0.5369 - acc: 0.8919 - val_loss: 0.9290 - val_acc: 0.8070\n",
      "Epoch 7/20\n",
      "7982/7982 [==============================] - 4s 533us/step - loss: 0.4326 - acc: 0.9128 - val_loss: 0.9055 - val_acc: 0.7990\n",
      "Epoch 8/20\n",
      "7982/7982 [==============================] - 4s 529us/step - loss: 0.3484 - acc: 0.9275 - val_loss: 0.9200 - val_acc: 0.8060\n",
      "Epoch 9/20\n",
      "7982/7982 [==============================] - 5s 572us/step - loss: 0.2859 - acc: 0.9391 - val_loss: 0.8933 - val_acc: 0.8090\n",
      "Epoch 10/20\n",
      "7982/7982 [==============================] - 4s 543us/step - loss: 0.2425 - acc: 0.9449 - val_loss: 0.9151 - val_acc: 0.8100\n",
      "Epoch 11/20\n",
      "7982/7982 [==============================] - 4s 530us/step - loss: 0.2081 - acc: 0.9481 - val_loss: 1.0037 - val_acc: 0.7870\n",
      "Epoch 12/20\n",
      "7982/7982 [==============================] - 4s 536us/step - loss: 0.1826 - acc: 0.9518 - val_loss: 0.9384 - val_acc: 0.8120\n",
      "Epoch 13/20\n",
      "7982/7982 [==============================] - 4s 531us/step - loss: 0.1693 - acc: 0.9523 - val_loss: 0.9340 - val_acc: 0.8160\n",
      "Epoch 14/20\n",
      "7982/7982 [==============================] - 4s 538us/step - loss: 0.1514 - acc: 0.9543 - val_loss: 0.9473 - val_acc: 0.8120\n",
      "Epoch 15/20\n",
      "7982/7982 [==============================] - 4s 543us/step - loss: 0.1387 - acc: 0.9548 - val_loss: 0.9804 - val_acc: 0.8060\n",
      "Epoch 16/20\n",
      "7982/7982 [==============================] - 5s 585us/step - loss: 0.1317 - acc: 0.9570 - val_loss: 1.0037 - val_acc: 0.8090\n",
      "Epoch 17/20\n",
      "7982/7982 [==============================] - 5s 576us/step - loss: 0.1254 - acc: 0.9574 - val_loss: 0.9922 - val_acc: 0.8140\n",
      "Epoch 18/20\n",
      "7982/7982 [==============================] - 4s 551us/step - loss: 0.1202 - acc: 0.9569 - val_loss: 1.1644 - val_acc: 0.7800\n",
      "Epoch 19/20\n",
      "7982/7982 [==============================] - 4s 541us/step - loss: 0.1205 - acc: 0.9570 - val_loss: 1.0208 - val_acc: 0.8090\n",
      "Epoch 20/20\n",
      "7982/7982 [==============================] - 4s 542us/step - loss: 0.1080 - acc: 0.9584 - val_loss: 1.0748 - val_acc: 0.8040\n"
     ]
    }
   ],
   "source": [
    "history = model.fit(partial_x_train,\n",
    "                    partial_y_train,\n",
    "                    epochs=20,\n",
    "                    batch_size=512,\n",
    "                    validation_data=(x_val, y_val))"
   ]
  },
  {
   "cell_type": "code",
   "execution_count": 15,
   "metadata": {},
   "outputs": [],
   "source": [
    "import matplotlib.pyplot as plt"
   ]
  },
  {
   "cell_type": "code",
   "execution_count": 16,
   "metadata": {},
   "outputs": [
    {
     "data": {
      "image/png": "[encoded data removed]",
      "text/plain": [
       "<Figure size 432x288 with 1 Axes>"
      ]
     },
     "metadata": {
      "needs_background": "light"
     },
     "output_type": "display_data"
    }
   ],
   "source": [
    "loss = history.history['loss']\n",
    "val_loss = history.history['val_loss']\n",
    "\n",
    "epochs = range(1, len(loss) + 1)\n",
    "\n",
    "plt.plot(epochs, loss, 'bo', label='Training loss')\n",
    "plt.plot(epochs, val_loss, 'b', label='Validation loss')\n",
    "plt.title('Training and validation loss')\n",
    "plt.xlabel('Epochs')\n",
    "plt.ylabel('Loss')\n",
    "plt.legend()\n",
    "\n",
    "plt.show()"
   ]
  },
  {
   "cell_type": "code",
   "execution_count": 17,
   "metadata": {},
   "outputs": [
    {
     "data": {
      "image/png": "[encoded data removed]",
      "text/plain": [
       "<Figure size 432x288 with 1 Axes>"
      ]
     },
     "metadata": {
      "needs_background": "light"
     },
     "output_type": "display_data"
    }
   ],
   "source": [
    "plt.clf()   # 그래프를 초기화합니다\n",
    "\n",
    "acc = history.history['acc']\n",
    "val_acc = history.history['val_acc']\n",
    "\n",
    "plt.plot(epochs, acc, 'bo', label='Training acc')\n",
    "plt.plot(epochs, val_acc, 'b', label='Validation acc')\n",
    "plt.title('Training and validation accuracy')\n",
    "plt.xlabel('Epochs')\n",
    "plt.ylabel('Accuracy')\n",
    "plt.legend()\n",
    "\n",
    "plt.show()"
   ]
  },
  {
   "cell_type": "code",
   "execution_count": 18,
   "metadata": {},
   "outputs": [
    {
     "name": "stdout",
     "output_type": "stream",
     "text": [
      "Train on 7982 samples, validate on 1000 samples\n",
      "Epoch 1/9\n",
      "7982/7982 [==============================] - 6s 718us/step - loss: 2.7615 - acc: 0.4602 - val_loss: 1.8234 - val_acc: 0.6410\n",
      "Epoch 2/9\n",
      "7982/7982 [==============================] - 4s 539us/step - loss: 1.4855 - acc: 0.6993 - val_loss: 1.3252 - val_acc: 0.6970\n",
      "Epoch 3/9\n",
      "7982/7982 [==============================] - 4s 543us/step - loss: 1.0840 - acc: 0.7799 - val_loss: 1.1535 - val_acc: 0.7560\n",
      "Epoch 4/9\n",
      "7982/7982 [==============================] - 4s 558us/step - loss: 0.8561 - acc: 0.8250 - val_loss: 1.0688 - val_acc: 0.7690\n",
      "Epoch 5/9\n",
      "7982/7982 [==============================] - 4s 534us/step - loss: 0.6888 - acc: 0.8584 - val_loss: 0.9774 - val_acc: 0.7940\n",
      "Epoch 6/9\n",
      "7982/7982 [==============================] - 4s 546us/step - loss: 0.5531 - acc: 0.8859 - val_loss: 0.9340 - val_acc: 0.8020\n",
      "Epoch 7/9\n",
      "7982/7982 [==============================] - 4s 555us/step - loss: 0.4423 - acc: 0.9109 - val_loss: 0.9394 - val_acc: 0.8020\n",
      "Epoch 8/9\n",
      "7982/7982 [==============================] - 5s 653us/step - loss: 0.3644 - acc: 0.9253 - val_loss: 0.8833 - val_acc: 0.8160\n",
      "Epoch 9/9\n",
      "7982/7982 [==============================] - 5s 671us/step - loss: 0.3011 - acc: 0.9352 - val_loss: 0.9032 - val_acc: 0.8120\n",
      "2246/2246 [==============================] - 2s 1ms/step\n"
     ]
    }
   ],
   "source": [
    "model = models.Sequential()\n",
    "model.add(layers.Dense(64, activation='relu', input_shape=(10000,)))\n",
    "model.add(layers.Dense(64, activation='relu'))\n",
    "model.add(layers.Dense(46, activation='softmax'))\n",
    "\n",
    "model.compile(optimizer='rmsprop',\n",
    "              loss='categorical_crossentropy',\n",
    "              metrics=['accuracy'])\n",
    "model.fit(partial_x_train,\n",
    "          partial_y_train,\n",
    "          epochs=9,\n",
    "          batch_size=512,\n",
    "          validation_data=(x_val, y_val))\n",
    "results = model.evaluate(x_test, one_hot_test_labels)"
   ]
  },
  {
   "cell_type": "code",
   "execution_count": 19,
   "metadata": {},
   "outputs": [
    {
     "data": {
      "text/plain": [
       "[0.9928584667793471, 0.780053428317008]"
      ]
     },
     "execution_count": 19,
     "metadata": {},
     "output_type": "execute_result"
    }
   ],
   "source": [
    "results\n",
    "\n",
    "# 최종결과 78%의 정확도 "
   ]
  },
  {
   "cell_type": "code",
   "execution_count": 20,
   "metadata": {},
   "outputs": [
    {
     "data": {
      "text/plain": [
       "0.19100623330365094"
      ]
     },
     "execution_count": 20,
     "metadata": {},
     "output_type": "execute_result"
    }
   ],
   "source": [
    "import copy\n",
    "\n",
    "test_labels_copy = copy.copy(test_labels)\n",
    "np.random.shuffle(test_labels_copy)\n",
    "float(np.sum(np.array(test_labels) == np.array(test_labels_copy))) / len(test_labels)"
   ]
  },
  {
   "cell_type": "code",
   "execution_count": 21,
   "metadata": {},
   "outputs": [],
   "source": [
    "predictions = model.predict(x_test)\n",
    "\n",
    "#새로운 데이터에 대해 예측 \n"
   ]
  },
  {
   "cell_type": "code",
   "execution_count": 22,
   "metadata": {},
   "outputs": [
    {
     "data": {
      "text/plain": [
       "(46,)"
      ]
     },
     "execution_count": 22,
     "metadata": {},
     "output_type": "execute_result"
    }
   ],
   "source": [
    "predictions[0].shape\n",
    "\n",
    "# 각 항목은 길이가 46인 벡터"
   ]
  },
  {
   "cell_type": "code",
   "execution_count": 23,
   "metadata": {},
   "outputs": [
    {
     "data": {
      "text/plain": [
       "1.0000002"
      ]
     },
     "execution_count": 23,
     "metadata": {},
     "output_type": "execute_result"
    }
   ],
   "source": [
    "np.sum(predictions[0])\n",
    "\n",
    "#벡터의 원소 합은 1 "
   ]
  },
  {
   "cell_type": "code",
   "execution_count": 24,
   "metadata": {},
   "outputs": [
    {
     "data": {
      "text/plain": [
       "3"
      ]
     },
     "execution_count": 24,
     "metadata": {},
     "output_type": "execute_result"
    }
   ],
   "source": [
    "np.argmax(predictions[0])"
   ]
  },
  {
   "cell_type": "code",
   "execution_count": 25,
   "metadata": {},
   "outputs": [],
   "source": [
    "y_train = np.array(train_labels)\n",
    "y_test = np.array(test_labels)\n",
    "\n",
    "##정수 텐서로 변환 "
   ]
  },
  {
   "cell_type": "code",
   "execution_count": 26,
   "metadata": {},
   "outputs": [],
   "source": [
    "model.compile(optimizer='rmsprop', loss='sparse_categorical_crossentropy', metrics=['acc'])"
   ]
  },
  {
   "cell_type": "code",
   "execution_count": 27,
   "metadata": {},
   "outputs": [
    {
     "name": "stdout",
     "output_type": "stream",
     "text": [
      "Train on 7982 samples, validate on 1000 samples\n",
      "Epoch 1/20\n",
      "7982/7982 [==============================] - 11s 1ms/step - loss: 3.3767 - acc: 0.1431 - val_loss: 3.0024 - val_acc: 0.2610\n",
      "Epoch 2/20\n",
      "7982/7982 [==============================] - 7s 854us/step - loss: 2.5020 - acc: 0.3414 - val_loss: 2.0773 - val_acc: 0.5880\n",
      "Epoch 3/20\n",
      "7982/7982 [==============================] - 7s 912us/step - loss: 1.6088 - acc: 0.6300 - val_loss: 1.5327 - val_acc: 0.6200\n",
      "Epoch 4/20\n",
      "7982/7982 [==============================] - 7s 861us/step - loss: 1.3003 - acc: 0.6429 - val_loss: 1.4471 - val_acc: 0.6190\n",
      "Epoch 5/20\n",
      "7982/7982 [==============================] - 7s 867us/step - loss: 1.1858 - acc: 0.6755 - val_loss: 1.4261 - val_acc: 0.6460\n",
      "Epoch 6/20\n",
      "7982/7982 [==============================] - 6s 782us/step - loss: 1.1090 - acc: 0.7105 - val_loss: 1.4021 - val_acc: 0.6710\n",
      "Epoch 7/20\n",
      "7982/7982 [==============================] - 6s 790us/step - loss: 1.0466 - acc: 0.7268 - val_loss: 1.4134 - val_acc: 0.6720 0s - loss: 1.0408 - acc: 0.\n",
      "Epoch 8/20\n",
      "7982/7982 [==============================] - 7s 840us/step - loss: 0.9926 - acc: 0.7461 - val_loss: 1.4176 - val_acc: 0.6840\n",
      "Epoch 9/20\n",
      "7982/7982 [==============================] - 6s 812us/step - loss: 0.9460 - acc: 0.7543 - val_loss: 1.4226 - val_acc: 0.6840\n",
      "Epoch 10/20\n",
      "7982/7982 [==============================] - 7s 855us/step - loss: 0.9053 - acc: 0.7593 - val_loss: 1.4401 - val_acc: 0.6870\n",
      "Epoch 11/20\n",
      "7982/7982 [==============================] - 7s 848us/step - loss: 0.8664 - acc: 0.7637 - val_loss: 1.4852 - val_acc: 0.6810\n",
      "Epoch 12/20\n",
      "7982/7982 [==============================] - 6s 812us/step - loss: 0.8351 - acc: 0.7772 - val_loss: 1.4965 - val_acc: 0.6830\n",
      "Epoch 13/20\n",
      "7982/7982 [==============================] - 7s 824us/step - loss: 0.8040 - acc: 0.7836 - val_loss: 1.5376 - val_acc: 0.6860 0.8033 - \n",
      "Epoch 14/20\n",
      "7982/7982 [==============================] - 7s 858us/step - loss: 0.7761 - acc: 0.7912 - val_loss: 1.5673 - val_acc: 0.6790\n",
      "Epoch 15/20\n",
      "7982/7982 [==============================] - 7s 885us/step - loss: 0.7517 - acc: 0.7944 - val_loss: 1.6176 - val_acc: 0.6730\n",
      "Epoch 16/20\n",
      "7982/7982 [==============================] - 7s 862us/step - loss: 0.7293 - acc: 0.8013 - val_loss: 1.6095 - val_acc: 0.6740\n",
      "Epoch 17/20\n",
      "7982/7982 [==============================] - 7s 868us/step - loss: 0.7073 - acc: 0.8068 - val_loss: 1.6623 - val_acc: 0.6790\n",
      "Epoch 18/20\n",
      "7982/7982 [==============================] - 7s 915us/step - loss: 0.6897 - acc: 0.8104 - val_loss: 1.7192 - val_acc: 0.6710\n",
      "Epoch 19/20\n",
      "7982/7982 [==============================] - 7s 828us/step - loss: 0.6743 - acc: 0.8120 - val_loss: 1.7323 - val_acc: 0.6700\n",
      "Epoch 20/20\n",
      "7982/7982 [==============================] - 6s 814us/step - loss: 0.6586 - acc: 0.8190 - val_loss: 1.8366 - val_acc: 0.6690\n"
     ]
    },
    {
     "data": {
      "text/plain": [
       "<keras.callbacks.History at 0x22c91124f60>"
      ]
     },
     "execution_count": 27,
     "metadata": {},
     "output_type": "execute_result"
    }
   ],
   "source": [
    "model = models.Sequential()\n",
    "model.add(layers.Dense(64, activation='relu', input_shape=(10000,)))\n",
    "model.add(layers.Dense(4, activation='relu'))\n",
    "model.add(layers.Dense(46, activation='softmax'))\n",
    "\n",
    "model.compile(optimizer='rmsprop',\n",
    "              loss='categorical_crossentropy',\n",
    "              metrics=['accuracy'])\n",
    "model.fit(partial_x_train,\n",
    "          partial_y_train,\n",
    "          epochs=20,\n",
    "          batch_size=128,\n",
    "          validation_data=(x_val, y_val))"
   ]
  }
 ],
 "metadata": {
  "kernelspec": {
   "display_name": "Python 3",
   "language": "python",
   "name": "python3"
  },
  "language_info": {
   "codemirror_mode": {
    "name": "ipython",
    "version": 3
   },
   "file_extension": ".py",
   "mimetype": "text/x-python",
   "name": "python",
   "nbconvert_exporter": "python",
   "pygments_lexer": "ipython3",
   "version": "3.7.3"
  }
 },
 "nbformat": 4,
 "nbformat_minor": 2
}
