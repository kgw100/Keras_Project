{
  "nbformat": 4,
  "nbformat_minor": 0,
  "metadata": {
    "colab": {
      "name": "IMDB_CNN_Sigmoid.ipynb",
      "version": "0.3.2",
      "provenance": [],
      "collapsed_sections": []
    },
    "kernelspec": {
      "name": "python3",
      "display_name": "Python 3"
    }
  },
  "cells": [
    {
      "cell_type": "markdown",
      "metadata": {
        "id": "eI-KG9_WQ3QK",
        "colab_type": "text"
      },
      "source": [
        "<h2> IMDB dataset을 이용한 CNN 모델(컨볼루션 신경망)</h2>\n",
        "\n",
        "<h3> 0. 기본 소개</h3>\n",
        "\n",
        "<h3>DataSet: IMDB</h3>\n",
        "\n",
        "\n",
        "IMDB는 Internet Movie DataBase을 뜻하며 영화에 대한 리뷰 데이터, 총 5만개의 리뷰로 이루어져 있고 훈련 데이터와 검증데이터를 각각 25000개씩 각각 50대50의 긍정리뷰와 부정리뷰를 가지고 있다.\n",
        "  \n",
        " <h3> CNN (Conventional Neural Networks)</h3>\n",
        " \n",
        "일반신경망과 비슷한 구조를 가지고 있지만,  입력데이터가 이미지라는 가정하에 수행되므로, 이미지 데이터를 인코딩할 수 있다. ConvNet의 각 레이어는 미분가능한 변환함수를 통해 하나의 Activation Volume을 또다른 Activation Volume으로 변환 시켜준다. 크게 Convolution layer, Pooling layer, Fully-Connected layer -> <b>3개의 레이어가 사용된다.</b>\n",
        "\n",
        "픽셀값으로 이루어진 원본이미지를 각 레이어를 거치며 클래스 점수로 변환한다.\n",
        "또, 항상 레이어가 parameter를 가지고 있는 것이 아니다. 어떤 레이어는 parameter들을 가지고 있지만, 또 어떤 레이어는 parameter 값을 가지고 있지 않는 경우가 존재하기 때문이다."
      ]
    },
    {
      "cell_type": "code",
      "metadata": {
        "id": "iNBRF1LrVZ-y",
        "colab_type": "code",
        "colab": {
          "base_uri": "https://localhost:8080/",
          "height": 36
        },
        "outputId": "d9329702-ae0b-4691-eea8-0dd784c91149"
      },
      "source": [
        "from keras.datasets import imdb\n",
        "from keras.preprocessing import sequence\n",
        "from keras.models import Sequential\n",
        "from keras.layers import Dense, Embedding, LSTM\n",
        "from keras.layers import Flatten, Dropout\n",
        "from keras.layers import Conv1D, GlobalMaxPooling1D"
      ],
      "execution_count": 7,
      "outputs": [
        {
          "output_type": "stream",
          "text": [
            "Using TensorFlow backend.\n"
          ],
          "name": "stderr"
        }
      ]
    },
    {
      "cell_type": "markdown",
      "metadata": {
        "id": "aqsItibfSqBy",
        "colab_type": "text"
      },
      "source": [
        "<h3> -> 사용할 패키지 불러오기</h3>"
      ]
    },
    {
      "cell_type": "code",
      "metadata": {
        "id": "FJhy3K5FVrsv",
        "colab_type": "code",
        "colab": {}
      },
      "source": [
        "max_features = 20000\n",
        "text_max_words = 200"
      ],
      "execution_count": 0,
      "outputs": []
    },
    {
      "cell_type": "code",
      "metadata": {
        "id": "Kk4St3OeVyjk",
        "colab_type": "code",
        "colab": {
          "base_uri": "https://localhost:8080/",
          "height": 55
        },
        "outputId": "ad20684b-1eab-4d0e-f905-fea02163e6d7"
      },
      "source": [
        "(x_train, y_train), (x_test, y_test) = imdb.load_data(num_words=max_features)\n",
        "\n",
        "\n",
        "x_val = x_train[20000:]\n",
        "y_val = y_train[20000:]\n",
        "x_train = x_train[:20000]\n",
        "y_train = y_train[:20000]"
      ],
      "execution_count": 9,
      "outputs": [
        {
          "output_type": "stream",
          "text": [
            "Downloading data from https://s3.amazonaws.com/text-datasets/imdb.npz\n",
            "17465344/17464789 [==============================] - 1s 0us/step\n"
          ],
          "name": "stdout"
        }
      ]
    },
    {
      "cell_type": "markdown",
      "metadata": {
        "id": "ri0gUv6aS0e_",
        "colab_type": "text"
      },
      "source": [
        "<h2>1. 데이터셋 생성하기 </h2>\n",
        "\n",
        "<h3>-> 훈련셋과 시험셋 불러오기 </h3>\n",
        "(x_train, y_train), (x_test, y_test) = imdb.load_data(num_words=max_features)\n",
        "\n",
        "<h3> 훈련셋과 검증셋 분리 </h3>\n",
        "\n",
        "x_val = x_train[20000:]\n",
        "y_val = y_train[20000:]\n",
        "x_train = x_train[:20000]\n",
        "y_train = y_train[:20000]\n"
      ]
    },
    {
      "cell_type": "code",
      "metadata": {
        "id": "LnxaN48pV9Y-",
        "colab_type": "code",
        "colab": {}
      },
      "source": [
        "x_train = sequence.pad_sequences(x_train, maxlen=text_max_words)\n",
        "x_val = sequence.pad_sequences(x_val, maxlen=text_max_words)\n",
        "x_test = sequence.pad_sequences(x_test, maxlen=text_max_words)"
      ],
      "execution_count": 0,
      "outputs": []
    },
    {
      "cell_type": "markdown",
      "metadata": {
        "id": "XYWfstDNTIpL",
        "colab_type": "text"
      },
      "source": [
        "<h3> -> 데이터셋 전처리 : 문장 길이 맞추기</h3>"
      ]
    },
    {
      "cell_type": "code",
      "metadata": {
        "id": "8rkxUmxtV_9X",
        "colab_type": "code",
        "colab": {
          "base_uri": "https://localhost:8080/",
          "height": 261
        },
        "outputId": "4cf908e9-a77f-4065-8639-98090b742ca3"
      },
      "source": [
        "\n",
        "model = Sequential()\n",
        "model.add(Embedding(max_features, 128, input_length=text_max_words))\n",
        "model.add(Dropout(0.2))\n",
        "model.add(Conv1D(256,\n",
        "                 3,\n",
        "                 padding='valid',\n",
        "                 activation='relu',\n",
        "                 strides=1))\n",
        "model.add(GlobalMaxPooling1D())\n",
        "model.add(Dense(128, activation='relu'))\n",
        "model.add(Dropout(0.2))\n",
        "model.add(Dense(1, activation='sigmoid'))"
      ],
      "execution_count": 11,
      "outputs": [
        {
          "output_type": "stream",
          "text": [
            "WARNING: Logging before flag parsing goes to stderr.\n",
            "W0805 01:36:39.754717 139946068801408 deprecation_wrapper.py:119] From /usr/local/lib/python3.6/dist-packages/keras/backend/tensorflow_backend.py:74: The name tf.get_default_graph is deprecated. Please use tf.compat.v1.get_default_graph instead.\n",
            "\n",
            "W0805 01:36:39.800613 139946068801408 deprecation_wrapper.py:119] From /usr/local/lib/python3.6/dist-packages/keras/backend/tensorflow_backend.py:517: The name tf.placeholder is deprecated. Please use tf.compat.v1.placeholder instead.\n",
            "\n",
            "W0805 01:36:39.811321 139946068801408 deprecation_wrapper.py:119] From /usr/local/lib/python3.6/dist-packages/keras/backend/tensorflow_backend.py:4138: The name tf.random_uniform is deprecated. Please use tf.random.uniform instead.\n",
            "\n",
            "W0805 01:36:39.831682 139946068801408 deprecation_wrapper.py:119] From /usr/local/lib/python3.6/dist-packages/keras/backend/tensorflow_backend.py:133: The name tf.placeholder_with_default is deprecated. Please use tf.compat.v1.placeholder_with_default instead.\n",
            "\n",
            "W0805 01:36:39.843606 139946068801408 deprecation.py:506] From /usr/local/lib/python3.6/dist-packages/keras/backend/tensorflow_backend.py:3445: calling dropout (from tensorflow.python.ops.nn_ops) with keep_prob is deprecated and will be removed in a future version.\n",
            "Instructions for updating:\n",
            "Please use `rate` instead of `keep_prob`. Rate should be set to `rate = 1 - keep_prob`.\n"
          ],
          "name": "stderr"
        }
      ]
    },
    {
      "cell_type": "markdown",
      "metadata": {
        "id": "-Ngos3mDTPpQ",
        "colab_type": "text"
      },
      "source": [
        "<h3>-> 모델 구성하기 </h3>\n",
        "<br>\n",
        "\n",
        "<b>Embedding</b>\n",
        "\n",
        "범주형 자료를 연속적 벡터 형태로 변환시키는 함수\n",
        "\n",
        "단어를 n차원의 벡터에 매핑해준다.\n",
        "\n",
        "<b>Dropout</b>\n",
        "\n",
        "망의 크기가 커질 경우, Overfitting의 문제를 피하기 위해서, 망에 있는 모든 레이어에 대해 학습을 수행하는 것이 아닌, 같은 망에 있는 입력 레이어나 히든레이어의 일부 뉴런을 생략하고 줄인 신경망으로 학습이 수월하게 해준다.\n",
        "\n",
        "<b>Conv1D</b>\n",
        "\n",
        "합성곱(Convolution) 연산을 수행하는 역할을 한다.\n",
        "\n",
        "1차원 상에서 CNN의 중요 레이어중 하나인 Convolutional 레이어의 연산을 수행해준다.\n",
        "\n",
        "<b> GlobalMaxPooling1D</b>\n",
        "\n",
        "Pooling이란, Convolution을 거쳐서 나온 Activation maps가 있을 때, 이를 이루는 Convolution 레이어를 resizing 하여 새로운 레이어를 얻는 과정이다. MaxPooling은 최댓값을 뽑아내는 것을 의미한다."
      ]
    },
    {
      "cell_type": "code",
      "metadata": {
        "id": "R-tZOafjWPog",
        "colab_type": "code",
        "colab": {
          "base_uri": "https://localhost:8080/",
          "height": 1000
        },
        "outputId": "766606dc-9ee8-42f7-f0fa-e0b21c6e1067"
      },
      "source": [
        "model.compile(loss='binary_crossentropy', optimizer='adam', metrics=['accuracy'])\n",
        "\n",
        "hist = model.fit(x_train, y_train, epochs=25, batch_size=64, validation_data=(x_val, y_val))\n"
      ],
      "execution_count": 12,
      "outputs": [
        {
          "output_type": "stream",
          "text": [
            "W0805 01:36:44.709007 139946068801408 deprecation_wrapper.py:119] From /usr/local/lib/python3.6/dist-packages/keras/optimizers.py:790: The name tf.train.Optimizer is deprecated. Please use tf.compat.v1.train.Optimizer instead.\n",
            "\n",
            "W0805 01:36:44.746692 139946068801408 deprecation_wrapper.py:119] From /usr/local/lib/python3.6/dist-packages/keras/backend/tensorflow_backend.py:3376: The name tf.log is deprecated. Please use tf.math.log instead.\n",
            "\n",
            "W0805 01:36:44.754900 139946068801408 deprecation.py:323] From /usr/local/lib/python3.6/dist-packages/tensorflow/python/ops/nn_impl.py:180: add_dispatch_support.<locals>.wrapper (from tensorflow.python.ops.array_ops) is deprecated and will be removed in a future version.\n",
            "Instructions for updating:\n",
            "Use tf.where in 2.0, which has the same broadcast rule as np.where\n"
          ],
          "name": "stderr"
        },
        {
          "output_type": "stream",
          "text": [
            "Train on 20000 samples, validate on 5000 samples\n",
            "Epoch 1/25\n",
            "20000/20000 [==============================] - 82s 4ms/step - loss: 0.4664 - acc: 0.7580 - val_loss: 0.3009 - val_acc: 0.8716\n",
            "Epoch 2/25\n",
            "20000/20000 [==============================] - 81s 4ms/step - loss: 0.2157 - acc: 0.9138 - val_loss: 0.2610 - val_acc: 0.8928\n",
            "Epoch 3/25\n",
            "20000/20000 [==============================] - 81s 4ms/step - loss: 0.0847 - acc: 0.9741 - val_loss: 0.2937 - val_acc: 0.8944\n",
            "Epoch 4/25\n",
            "20000/20000 [==============================] - 81s 4ms/step - loss: 0.0215 - acc: 0.9953 - val_loss: 0.3618 - val_acc: 0.8906\n",
            "Epoch 5/25\n",
            "20000/20000 [==============================] - 81s 4ms/step - loss: 0.0063 - acc: 0.9994 - val_loss: 0.4124 - val_acc: 0.8918\n",
            "Epoch 6/25\n",
            "20000/20000 [==============================] - 81s 4ms/step - loss: 0.0016 - acc: 1.0000 - val_loss: 0.4426 - val_acc: 0.8936\n",
            "Epoch 7/25\n",
            "20000/20000 [==============================] - 87s 4ms/step - loss: 7.7072e-04 - acc: 1.0000 - val_loss: 0.4615 - val_acc: 0.8926\n",
            "Epoch 8/25\n",
            "20000/20000 [==============================] - 165s 8ms/step - loss: 4.8665e-04 - acc: 1.0000 - val_loss: 0.4804 - val_acc: 0.8924\n",
            "Epoch 9/25\n",
            "20000/20000 [==============================] - 225s 11ms/step - loss: 3.4107e-04 - acc: 1.0000 - val_loss: 0.5093 - val_acc: 0.8914\n",
            "Epoch 10/25\n",
            "20000/20000 [==============================] - 227s 11ms/step - loss: 2.2968e-04 - acc: 1.0000 - val_loss: 0.5188 - val_acc: 0.8922\n",
            "Epoch 11/25\n",
            "20000/20000 [==============================] - 225s 11ms/step - loss: 1.5990e-04 - acc: 1.0000 - val_loss: 0.5399 - val_acc: 0.8920\n",
            "Epoch 12/25\n",
            "20000/20000 [==============================] - 227s 11ms/step - loss: 1.6550e-04 - acc: 1.0000 - val_loss: 0.5504 - val_acc: 0.8910\n",
            "Epoch 13/25\n",
            "20000/20000 [==============================] - 225s 11ms/step - loss: 1.1247e-04 - acc: 1.0000 - val_loss: 0.5578 - val_acc: 0.8934\n",
            "Epoch 14/25\n",
            "20000/20000 [==============================] - 226s 11ms/step - loss: 7.1572e-05 - acc: 1.0000 - val_loss: 0.5732 - val_acc: 0.8934\n",
            "Epoch 15/25\n",
            "20000/20000 [==============================] - 226s 11ms/step - loss: 0.0168 - acc: 0.9944 - val_loss: 0.5055 - val_acc: 0.8648\n",
            "Epoch 16/25\n",
            "20000/20000 [==============================] - 225s 11ms/step - loss: 0.0413 - acc: 0.9859 - val_loss: 0.4770 - val_acc: 0.8816\n",
            "Epoch 17/25\n",
            "20000/20000 [==============================] - 226s 11ms/step - loss: 0.0097 - acc: 0.9969 - val_loss: 0.5899 - val_acc: 0.8738\n",
            "Epoch 18/25\n",
            "20000/20000 [==============================] - 226s 11ms/step - loss: 0.0019 - acc: 0.9996 - val_loss: 0.5966 - val_acc: 0.8834\n",
            "Epoch 19/25\n",
            "20000/20000 [==============================] - 226s 11ms/step - loss: 0.0015 - acc: 0.9996 - val_loss: 0.6306 - val_acc: 0.8816\n",
            "Epoch 20/25\n",
            "20000/20000 [==============================] - 227s 11ms/step - loss: 0.0011 - acc: 0.9996 - val_loss: 0.6357 - val_acc: 0.8806\n",
            "Epoch 21/25\n",
            "20000/20000 [==============================] - 225s 11ms/step - loss: 4.7312e-04 - acc: 0.9999 - val_loss: 0.6677 - val_acc: 0.8820\n",
            "Epoch 22/25\n",
            "20000/20000 [==============================] - 225s 11ms/step - loss: 1.1059e-04 - acc: 1.0000 - val_loss: 0.6888 - val_acc: 0.8838\n",
            "Epoch 23/25\n",
            "20000/20000 [==============================] - 225s 11ms/step - loss: 6.2050e-04 - acc: 0.9999 - val_loss: 0.7116 - val_acc: 0.8750\n",
            "Epoch 24/25\n",
            "20000/20000 [==============================] - 225s 11ms/step - loss: 0.0037 - acc: 0.9987 - val_loss: 0.6872 - val_acc: 0.8810\n",
            "Epoch 25/25\n",
            "20000/20000 [==============================] - 224s 11ms/step - loss: 0.0071 - acc: 0.9973 - val_loss: 0.7249 - val_acc: 0.8826\n"
          ],
          "name": "stdout"
        }
      ]
    },
    {
      "cell_type": "markdown",
      "metadata": {
        "id": "D4nI36i-Tty7",
        "colab_type": "text"
      },
      "source": [
        "<h4> 모델 학습과정 설정하기</h4>\n",
        "model.compile(loss='binary_crossentropy', optimizer='adam', metrics=['accuracy'])\n",
        "\n",
        "\n",
        "<h4> 모델 학습시키기</h4>\n",
        "hist = model.fit(x_train, y_train, epochs=25, batch_size=64, validation_data=(x_val, y_val))"
      ]
    },
    {
      "cell_type": "code",
      "metadata": {
        "id": "Z4G6OytuaeOc",
        "colab_type": "code",
        "colab": {
          "base_uri": "https://localhost:8080/",
          "height": 283
        },
        "outputId": "6093d068-77c7-4c54-8c15-34262bb2b46a"
      },
      "source": [
        "%matplotlib inline\n",
        "import matplotlib.pyplot as plt\n",
        "\n",
        "fig, loss_ax = plt.subplots()\n",
        "\n",
        "acc_ax = loss_ax.twinx()\n",
        "\n",
        "loss_ax.plot(hist.history['loss'], 'y', label='train loss')\n",
        "loss_ax.plot(hist.history['val_loss'], 'r', label='val loss')\n",
        "loss_ax.set_ylim([-0.2, 1.2])\n",
        "\n",
        "acc_ax.plot(hist.history['acc'], 'b', label='train acc')\n",
        "acc_ax.plot(hist.history['val_acc'], 'g', label='val acc')\n",
        "acc_ax.set_ylim([-0.2, 1.2])\n",
        "\n",
        "loss_ax.set_xlabel('epoch')\n",
        "loss_ax.set_ylabel('loss')\n",
        "acc_ax.set_ylabel('accuray')\n",
        "\n",
        "loss_ax.legend(loc='upper left')\n",
        "acc_ax.legend(loc='lower left')\n",
        "\n",
        "plt.show()"
      ],
      "execution_count": 13,
      "outputs": [
        {
          "output_type": "display_data",
          "data": {
            "image/png": "[encoded data removed]",
            "text/plain": [
              "<Figure size 432x288 with 2 Axes>"
            ]
          },
          "metadata": {
            "tags": []
          }
        }
      ]
    },
    {
      "cell_type": "markdown",
      "metadata": {
        "id": "3dvk1pGMUloA",
        "colab_type": "text"
      },
      "source": [
        "<h3> ->훈련과 검증 손실 분석</h3>\n",
        "훈련 손실이 에포크마다 감소하고 훈련 정확도는 에포크마다 증가합니다. 경사 하강법 최적화를 사용했을때 반복마다 최소화되는 것이 손실이므로 기대했던 예상입니다.3번째 순간부터 train loss보다 val loss가 역전하면서 급격하게 상승합니다. 즉, 이 말은 처음 보는 데이터에게는 잘 작동하지 않는 다는 것을 의미합니다. 이또한, LSTM과 비슷하게  <b>Overfitting</b>되었다고 하는데, 훈련 데이터에 과도하게 최적화되어 훈련 데이터에 특화된 표현을 학습했다고 볼 수 있습니다. 하지만, LSTM이 급격하게 val loss가 증가한것과 달리 조금은 완만하게 val loss가 증가했기 때문에 정확도가 조금 더 높았습니다."
      ]
    },
    {
      "cell_type": "code",
      "metadata": {
        "id": "KlSNgQViKk7Y",
        "colab_type": "code",
        "colab": {
          "base_uri": "https://localhost:8080/",
          "height": 73
        },
        "outputId": "00a9cc1a-d50f-45ae-e936-46f6e4fe546e"
      },
      "source": [
        "# 6. 모델 평가하기\n",
        "loss_and_metrics = model.evaluate(x_test, y_test, batch_size=64)\n",
        "print('## evaluation loss and_metrics ##')\n",
        "print(loss_and_metrics)"
      ],
      "execution_count": 14,
      "outputs": [
        {
          "output_type": "stream",
          "text": [
            "25000/25000 [==============================] - 59s 2ms/step\n",
            "## evaluation loss and_metrics ##\n",
            "[0.8023144704818725, 0.86312]\n"
          ],
          "name": "stdout"
        }
      ]
    },
    {
      "cell_type": "markdown",
      "metadata": {
        "id": "CPfOP0LFVtsa",
        "colab_type": "text"
      },
      "source": [
        "<h3>최종 정확도 : 86.3% </h3>"
      ]
    }
  ]
}