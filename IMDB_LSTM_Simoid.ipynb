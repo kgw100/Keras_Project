{
  "nbformat": 4,
  "nbformat_minor": 0,
  "metadata": {
    "colab": {
      "name": "IMDB_LSTM.ipynb",
      "version": "0.3.2",
      "provenance": [],
      "collapsed_sections": []
    },
    "kernelspec": {
      "name": "python3",
      "display_name": "Python 3"
    }
  },
  "cells": [
    {
      "cell_type": "markdown",
      "metadata": {
        "id": "XxnS9ESOGpB6",
        "colab_type": "text"
      },
      "source": [
        "<h2>IMDB DataSet을 이용한  LSTM 모델(순환 신경망)</h2>\n",
        "\n",
        "<h3>0. 기본 소개</h3>\n",
        "\n",
        "<h3>DataSet: IMDB</h3>\n",
        "\n",
        "\n",
        "IMDB는 Internet Movie DataBase을 뜻하며 영화에 대한 리뷰 데이터, 총 5만개의 리뷰로 이루어져 있고 훈련 데이터와 검증데이터를 각각 25000개씩 각각 50대50의 긍정리뷰와 부정리뷰를 가지고 있다.\n",
        "\n",
        "<h3>learning Model: LSTM</h3>\n",
        "\n",
        "LSTM은 RNNs(Recurrent Neural Networks)의 한종류로, RNNs는 완벽한 인공 신경망 구조라는 의견도 존재한다.\n",
        "\n",
        "FFNets(일반적인 신경망 구조)처럼 입력 데이터가 은닉층의 모든 노드를 딱 한번씩만 지나게 되는 구조는, <b>전에 수행했던 데이터에 대해서는 기억하지 않는 것이 특징</b>이다.\n",
        "\n",
        "하지만,  RNNs의 경우에는, feedback구조를 가지고 있고, 사용자의 메모리의 정도에 따라 전에 수행했던 입력했던 데이터의 은닉층 값을 저장하고 있으며, 결국 은닉층 값의 중요도 정도에 따라 (T)시간에 들어오는 입력 데이터 값에, (T-1)시간 때 수행되었던 입력데이터의 은닉층 값이 영향을 미친다.<b>(즉, 전에 수행했던 데이터를 기억해 학습에 활용한다)</b>\n",
        "\n",
        "LSTM은 기존의 일반적인 모델보다 조금 더 발전된 RNNs라고 할 수 있으며, 그라디언트에 관한 이해가 필요하다.\n",
        "\n",
        "그라디언트 안정화 문제 (Vanishing and Exploding Gradients)\n",
        "\n",
        "미분을 통해 기울기를 구할 수 있기 때문에, X의 작은 변화량에 따른 Y의 변화량의 비율을 나타낼 수 있다. 이말인 즉, 모든 가중치와 오차의 관계를 구할 수 있다는 말이다.\n",
        "\n",
        "LSTM의 유닛은 여러 개의 게이트가 붙어있는 셀(cell)로 이루어진다. 여기서 말하는 셀(cell)은 컴퓨터 메모리상의 셀과 비슷한 의미를 가진다.\n",
        "\n",
        "현재의 입력신호와 과거셀의 피드백(feedback)을 입력값에 넣은 뒤, 게이트를 통해 디지털 방식이 아닌 아날로그 방식으로 입력값에 대한 결정을 하게 된다.\n"
      ]
    },
    {
      "cell_type": "markdown",
      "metadata": {
        "id": "YfNUs1I3LxoW",
        "colab_type": "text"
      },
      "source": [
        "<h2> 1. 실습 </h2>"
      ]
    },
    {
      "cell_type": "code",
      "metadata": {
        "id": "qP8-FFXyKL1Y",
        "colab_type": "code",
        "colab": {}
      },
      "source": [
        "\n",
        "\n",
        "from __future__ import absolute_import, division, print_function, unicode_literals\n",
        "\n",
        "from keras.models import Sequential\n",
        "import tensorflow as tf\n",
        "from tensorflow import keras\n",
        "from keras.layers import Embedding\n",
        "from keras.layers import Dense, Activation,  Flatten\n",
        "from keras.layers.recurrent import LSTM\n",
        "\n",
        "import numpy as np\n",
        "\n"
      ],
      "execution_count": 0,
      "outputs": []
    },
    {
      "cell_type": "markdown",
      "metadata": {
        "id": "sFBpzsGaLp_u",
        "colab_type": "text"
      },
      "source": [
        "# <h3> -> 1.사용할 패키지 불러오기 </h3>"
      ]
    },
    {
      "cell_type": "code",
      "metadata": {
        "id": "VXoz5Yb3OGhO",
        "colab_type": "code",
        "colab": {}
      },
      "source": [
        "\n",
        "\n",
        "imdb = keras.datasets.imdb\n",
        "\n",
        "(x_train, y_train), (x_test, y_test) = imdb.load_data(num_words=20000)"
      ],
      "execution_count": 0,
      "outputs": []
    },
    {
      "cell_type": "markdown",
      "metadata": {
        "id": "c9zJu_BCMLad",
        "colab_type": "text"
      },
      "source": [
        "<h3> ->ㄴ. 데이터셋 생성하기</h3>\n",
        "\n",
        "\n",
        "훈련셋과 시험셋 불러오기"
      ]
    },
    {
      "cell_type": "code",
      "metadata": {
        "id": "rnQUjElTPILV",
        "colab_type": "code",
        "colab": {
          "base_uri": "https://localhost:8080/",
          "height": 168
        },
        "outputId": "3a593f7b-17b7-4c23-feae-446f971b52c6"
      },
      "source": [
        "print(x_train)"
      ],
      "execution_count": 17,
      "outputs": [
        {
          "output_type": "stream",
          "text": [
            "[list([1, 14, 22, 16, 43, 530, 973, 1622, 1385, 65, 458, 4468, 66, 3941, 4, 173, 36, 256, 5, 25, 100, 43, 838, 112, 50, 670, 2, 9, 35, 480, 284, 5, 150, 4, 172, 112, 167, 2, 336, 385, 39, 4, 172, 4536, 1111, 17, 546, 38, 13, 447, 4, 192, 50, 16, 6, 147, 2025, 19, 14, 22, 4, 1920, 4613, 469, 4, 22, 71, 87, 12, 16, 43, 530, 38, 76, 15, 13, 1247, 4, 22, 17, 515, 17, 12, 16, 626, 18, 19193, 5, 62, 386, 12, 8, 316, 8, 106, 5, 4, 2223, 5244, 16, 480, 66, 3785, 33, 4, 130, 12, 16, 38, 619, 5, 25, 124, 51, 36, 135, 48, 25, 1415, 33, 6, 22, 12, 215, 28, 77, 52, 5, 14, 407, 16, 82, 10311, 8, 4, 107, 117, 5952, 15, 256, 4, 2, 7, 3766, 5, 723, 36, 71, 43, 530, 476, 26, 400, 317, 46, 7, 4, 12118, 1029, 13, 104, 88, 4, 381, 15, 297, 98, 32, 2071, 56, 26, 141, 6, 194, 7486, 18, 4, 226, 22, 21, 134, 476, 26, 480, 5, 144, 30, 5535, 18, 51, 36, 28, 224, 92, 25, 104, 4, 226, 65, 16, 38, 1334, 88, 12, 16, 283, 5, 16, 4472, 113, 103, 32, 15, 16, 5345, 19, 178, 32])\n",
            " list([1, 194, 1153, 194, 8255, 78, 228, 5, 6, 1463, 4369, 5012, 134, 26, 4, 715, 8, 118, 1634, 14, 394, 20, 13, 119, 954, 189, 102, 5, 207, 110, 3103, 21, 14, 69, 188, 8, 30, 23, 7, 4, 249, 126, 93, 4, 114, 9, 2300, 1523, 5, 647, 4, 116, 9, 35, 8163, 4, 229, 9, 340, 1322, 4, 118, 9, 4, 130, 4901, 19, 4, 1002, 5, 89, 29, 952, 46, 37, 4, 455, 9, 45, 43, 38, 1543, 1905, 398, 4, 1649, 26, 6853, 5, 163, 11, 3215, 10156, 4, 1153, 9, 194, 775, 7, 8255, 11596, 349, 2637, 148, 605, 15358, 8003, 15, 123, 125, 68, 2, 6853, 15, 349, 165, 4362, 98, 5, 4, 228, 9, 43, 2, 1157, 15, 299, 120, 5, 120, 174, 11, 220, 175, 136, 50, 9, 4373, 228, 8255, 5, 2, 656, 245, 2350, 5, 4, 9837, 131, 152, 491, 18, 2, 32, 7464, 1212, 14, 9, 6, 371, 78, 22, 625, 64, 1382, 9, 8, 168, 145, 23, 4, 1690, 15, 16, 4, 1355, 5, 28, 6, 52, 154, 462, 33, 89, 78, 285, 16, 145, 95])\n",
            " list([1, 14, 47, 8, 30, 31, 7, 4, 249, 108, 7, 4, 5974, 54, 61, 369, 13, 71, 149, 14, 22, 112, 4, 2401, 311, 12, 16, 3711, 33, 75, 43, 1829, 296, 4, 86, 320, 35, 534, 19, 263, 4821, 1301, 4, 1873, 33, 89, 78, 12, 66, 16, 4, 360, 7, 4, 58, 316, 334, 11, 4, 1716, 43, 645, 662, 8, 257, 85, 1200, 42, 1228, 2578, 83, 68, 3912, 15, 36, 165, 1539, 278, 36, 69, 2, 780, 8, 106, 14, 6905, 1338, 18, 6, 22, 12, 215, 28, 610, 40, 6, 87, 326, 23, 2300, 21, 23, 22, 12, 272, 40, 57, 31, 11, 4, 22, 47, 6, 2307, 51, 9, 170, 23, 595, 116, 595, 1352, 13, 191, 79, 638, 89, 2, 14, 9, 8, 106, 607, 624, 35, 534, 6, 227, 7, 129, 113])\n",
            " ...\n",
            " list([1, 11, 6, 230, 245, 6401, 9, 6, 1225, 446, 2, 45, 2174, 84, 8322, 4007, 21, 4, 912, 84, 14532, 325, 725, 134, 15271, 1715, 84, 5, 36, 28, 57, 1099, 21, 8, 140, 8, 703, 5, 11656, 84, 56, 18, 1644, 14, 9, 31, 7, 4, 9406, 1209, 2295, 2, 1008, 18, 6, 20, 207, 110, 563, 12, 8, 2901, 17793, 8, 97, 6, 20, 53, 4767, 74, 4, 460, 364, 1273, 29, 270, 11, 960, 108, 45, 40, 29, 2961, 395, 11, 6, 4065, 500, 7, 14492, 89, 364, 70, 29, 140, 4, 64, 4780, 11, 4, 2678, 26, 178, 4, 529, 443, 17793, 5, 27, 710, 117, 2, 8123, 165, 47, 84, 37, 131, 818, 14, 595, 10, 10, 61, 1242, 1209, 10, 10, 288, 2260, 1702, 34, 2901, 17793, 4, 65, 496, 4, 231, 7, 790, 5, 6, 320, 234, 2766, 234, 1119, 1574, 7, 496, 4, 139, 929, 2901, 17793, 7750, 5, 4241, 18, 4, 8497, 13164, 250, 11, 1818, 7561, 4, 4217, 5408, 747, 1115, 372, 1890, 1006, 541, 9303, 7, 4, 59, 11027, 4, 3586, 2])\n",
            " list([1, 1446, 7079, 69, 72, 3305, 13, 610, 930, 8, 12, 582, 23, 5, 16, 484, 685, 54, 349, 11, 4120, 2959, 45, 58, 1466, 13, 197, 12, 16, 43, 23, 2, 5, 62, 30, 145, 402, 11, 4131, 51, 575, 32, 61, 369, 71, 66, 770, 12, 1054, 75, 100, 2198, 8, 4, 105, 37, 69, 147, 712, 75, 3543, 44, 257, 390, 5, 69, 263, 514, 105, 50, 286, 1814, 23, 4, 123, 13, 161, 40, 5, 421, 4, 116, 16, 897, 13, 2, 40, 319, 5872, 112, 6700, 11, 4803, 121, 25, 70, 3468, 4, 719, 3798, 13, 18, 31, 62, 40, 8, 7200, 4, 2, 7, 14, 123, 5, 942, 25, 8, 721, 12, 145, 5, 202, 12, 160, 580, 202, 12, 6, 52, 58, 11418, 92, 401, 728, 12, 39, 14, 251, 8, 15, 251, 5, 2, 12, 38, 84, 80, 124, 12, 9, 23])\n",
            " list([1, 17, 6, 194, 337, 7, 4, 204, 22, 45, 254, 8, 106, 14, 123, 4, 12815, 270, 14437, 5, 16923, 12255, 732, 2098, 101, 405, 39, 14, 1034, 4, 1310, 9, 115, 50, 305, 12, 47, 4, 168, 5, 235, 7, 38, 111, 699, 102, 7, 4, 4039, 9245, 9, 24, 6, 78, 1099, 17, 2345, 16553, 21, 27, 9685, 6139, 5, 2, 1603, 92, 1183, 4, 1310, 7, 4, 204, 42, 97, 90, 35, 221, 109, 29, 127, 27, 118, 8, 97, 12, 157, 21, 6789, 2, 9, 6, 66, 78, 1099, 4, 631, 1191, 5, 2642, 272, 191, 1070, 6, 7585, 8, 2197, 2, 10755, 544, 5, 383, 1271, 848, 1468, 12183, 497, 16876, 8, 1597, 8778, 19280, 21, 60, 27, 239, 9, 43, 8368, 209, 405, 10, 10, 12, 764, 40, 4, 248, 20, 12, 16, 5, 174, 1791, 72, 7, 51, 6, 1739, 22, 4, 204, 131, 9])]\n"
          ],
          "name": "stdout"
        }
      ]
    },
    {
      "cell_type": "code",
      "metadata": {
        "id": "MeIwUaK8PVEi",
        "colab_type": "code",
        "colab": {}
      },
      "source": [
        "x_val = x_train[20000:]\n",
        "y_val = y_train[20000:]\n",
        "x_train = x_train[:20000]\n",
        "y_train = y_train[:20000]"
      ],
      "execution_count": 0,
      "outputs": []
    },
    {
      "cell_type": "markdown",
      "metadata": {
        "id": "JqO7Y9BUMoOl",
        "colab_type": "text"
      },
      "source": [
        "<h3>->훈련셋과 검증셋 분리</h3>"
      ]
    },
    {
      "cell_type": "code",
      "metadata": {
        "id": "I7EK1KBXPhKm",
        "colab_type": "code",
        "colab": {}
      },
      "source": [
        "from keras.preprocessing import sequence\n",
        "\n",
        "x_train = sequence.pad_sequences(x_train, maxlen=200)\n",
        "x_val = sequence.pad_sequences(x_val, maxlen=200)\n",
        "x_test = sequence.pad_sequences(x_test, maxlen=200)"
      ],
      "execution_count": 0,
      "outputs": []
    },
    {
      "cell_type": "markdown",
      "metadata": {
        "id": "vTTKmX7sM0Dx",
        "colab_type": "text"
      },
      "source": [
        "<h3>->데이터셋 전처리 : 문장 길이 맞추기</h3>"
      ]
    },
    {
      "cell_type": "code",
      "metadata": {
        "id": "om4u00QUPmYe",
        "colab_type": "code",
        "colab": {}
      },
      "source": [
        "model = Sequential()\n",
        "model.add(Embedding(20000, 128))\n",
        "model.add(LSTM(128))\n",
        "model.add(Dense(1, activation='sigmoid'))"
      ],
      "execution_count": 0,
      "outputs": []
    },
    {
      "cell_type": "markdown",
      "metadata": {
        "id": "HDSNUHgqNANo",
        "colab_type": "text"
      },
      "source": [
        "<h3>-> 모델 구성하기</h3>\n",
        "\n",
        "\n",
        "<h4>Embedding</h4>\n",
        "범주형 자료를 연속적 벡터에 형태로 변환 시키는 함수로, 단어를 n차원의 벡터로 매핑시킨다.\n",
        "\n",
        "<h4>Sigmoid</h4>\n",
        "활성화 함수로써, 0과1 사이의 값을 가지는 비선형 함수이다. \n",
        "\n",
        "*Activation Function: 어떠한 신호를 입력받아 이를 적절한 처리를 통해 출력해주는 함수\n",
        "\n",
        "*선형 : 그래프가 직선 형태를 띄고, 함수값이 예측가능하다.\n",
        "\n",
        "*비선형 : 함수의 수식이 알려지지 않으면, 함수값을 예측하기 힘들다."
      ]
    },
    {
      "cell_type": "code",
      "metadata": {
        "id": "5FwmPMpKR6OT",
        "colab_type": "code",
        "colab": {
          "base_uri": "https://localhost:8080/",
          "height": 1000
        },
        "outputId": "ec5b5a99-3479-430f-c072-e07fb79b3ded"
      },
      "source": [
        "# 3. 모델 학습과정 설정하기\n",
        "model.compile(loss='binary_crossentropy', optimizer='adam', metrics=['accuracy'])\n",
        "\n",
        "# 4. 모델 학습시키기\n",
        "hist = model.fit(x_train, y_train, epochs=25, batch_size=64, validation_data=(x_val, y_val))\n"
      ],
      "execution_count": 22,
      "outputs": [
        {
          "output_type": "stream",
          "text": [
            "W0805 01:46:35.596708 140270821459840 deprecation_wrapper.py:119] From /usr/local/lib/python3.6/dist-packages/keras/optimizers.py:790: The name tf.train.Optimizer is deprecated. Please use tf.compat.v1.train.Optimizer instead.\n",
            "\n",
            "W0805 01:46:35.710658 140270821459840 deprecation_wrapper.py:119] From /usr/local/lib/python3.6/dist-packages/keras/backend/tensorflow_backend.py:3376: The name tf.log is deprecated. Please use tf.math.log instead.\n",
            "\n",
            "W0805 01:46:35.725051 140270821459840 deprecation.py:323] From /usr/local/lib/python3.6/dist-packages/tensorflow/python/ops/nn_impl.py:180: add_dispatch_support.<locals>.wrapper (from tensorflow.python.ops.array_ops) is deprecated and will be removed in a future version.\n",
            "Instructions for updating:\n",
            "Use tf.where in 2.0, which has the same broadcast rule as np.where\n",
            "W0805 01:46:37.501211 140270821459840 deprecation_wrapper.py:119] From /usr/local/lib/python3.6/dist-packages/keras/backend/tensorflow_backend.py:986: The name tf.assign_add is deprecated. Please use tf.compat.v1.assign_add instead.\n",
            "\n"
          ],
          "name": "stderr"
        },
        {
          "output_type": "stream",
          "text": [
            "Train on 20000 samples, validate on 5000 samples\n",
            "Epoch 1/25\n",
            "20000/20000 [==============================] - 454s 23ms/step - loss: 0.4519 - acc: 0.7856 - val_loss: 0.3613 - val_acc: 0.8448\n",
            "Epoch 2/25\n",
            "20000/20000 [==============================] - 488s 24ms/step - loss: 0.2346 - acc: 0.9106 - val_loss: 0.3298 - val_acc: 0.8528\n",
            "Epoch 3/25\n",
            "20000/20000 [==============================] - 492s 25ms/step - loss: 0.1438 - acc: 0.9496 - val_loss: 0.3648 - val_acc: 0.8594\n",
            "Epoch 4/25\n",
            "20000/20000 [==============================] - 493s 25ms/step - loss: 0.1030 - acc: 0.9642 - val_loss: 0.3987 - val_acc: 0.8470\n",
            "Epoch 5/25\n",
            "20000/20000 [==============================] - 490s 24ms/step - loss: 0.0810 - acc: 0.9724 - val_loss: 0.4671 - val_acc: 0.8596\n",
            "Epoch 6/25\n",
            "20000/20000 [==============================] - 485s 24ms/step - loss: 0.0497 - acc: 0.9827 - val_loss: 0.5289 - val_acc: 0.8582\n",
            "Epoch 7/25\n",
            "20000/20000 [==============================] - 488s 24ms/step - loss: 0.0409 - acc: 0.9874 - val_loss: 0.5466 - val_acc: 0.8546\n",
            "Epoch 8/25\n",
            "20000/20000 [==============================] - 482s 24ms/step - loss: 0.0220 - acc: 0.9937 - val_loss: 0.7131 - val_acc: 0.8618\n",
            "Epoch 9/25\n",
            "20000/20000 [==============================] - 347s 17ms/step - loss: 0.0263 - acc: 0.9926 - val_loss: 0.6703 - val_acc: 0.8502\n",
            "Epoch 10/25\n",
            "20000/20000 [==============================] - 304s 15ms/step - loss: 0.0236 - acc: 0.9929 - val_loss: 0.6643 - val_acc: 0.8574\n",
            "Epoch 11/25\n",
            "20000/20000 [==============================] - 304s 15ms/step - loss: 0.0175 - acc: 0.9950 - val_loss: 0.6862 - val_acc: 0.8362\n",
            "Epoch 12/25\n",
            "20000/20000 [==============================] - 305s 15ms/step - loss: 0.0285 - acc: 0.9910 - val_loss: 0.7272 - val_acc: 0.8456\n",
            "Epoch 13/25\n",
            "20000/20000 [==============================] - 307s 15ms/step - loss: 0.0148 - acc: 0.9956 - val_loss: 0.7693 - val_acc: 0.8540\n",
            "Epoch 14/25\n",
            "20000/20000 [==============================] - 304s 15ms/step - loss: 0.0156 - acc: 0.9956 - val_loss: 0.7752 - val_acc: 0.8224\n",
            "Epoch 15/25\n",
            "20000/20000 [==============================] - 306s 15ms/step - loss: 0.0243 - acc: 0.9929 - val_loss: 0.6633 - val_acc: 0.8182\n",
            "Epoch 16/25\n",
            "20000/20000 [==============================] - 304s 15ms/step - loss: 0.0265 - acc: 0.9917 - val_loss: 0.6748 - val_acc: 0.8378\n",
            "Epoch 17/25\n",
            "20000/20000 [==============================] - 303s 15ms/step - loss: 0.0126 - acc: 0.9965 - val_loss: 0.7878 - val_acc: 0.8538\n",
            "Epoch 18/25\n",
            "20000/20000 [==============================] - 304s 15ms/step - loss: 0.0056 - acc: 0.9984 - val_loss: 0.8151 - val_acc: 0.8520\n",
            "Epoch 19/25\n",
            "20000/20000 [==============================] - 283s 14ms/step - loss: 0.0023 - acc: 0.9995 - val_loss: 0.9339 - val_acc: 0.8562\n",
            "Epoch 20/25\n",
            "20000/20000 [==============================] - 150s 7ms/step - loss: 2.4833e-04 - acc: 1.0000 - val_loss: 1.0090 - val_acc: 0.8562\n",
            "Epoch 21/25\n",
            "20000/20000 [==============================] - 150s 8ms/step - loss: 1.0060e-04 - acc: 1.0000 - val_loss: 1.0424 - val_acc: 0.8550\n",
            "Epoch 22/25\n",
            "20000/20000 [==============================] - 150s 7ms/step - loss: 6.4512e-05 - acc: 1.0000 - val_loss: 1.0969 - val_acc: 0.8576\n",
            "Epoch 23/25\n",
            "20000/20000 [==============================] - 147s 7ms/step - loss: 4.6707e-05 - acc: 1.0000 - val_loss: 1.1279 - val_acc: 0.8572\n",
            "Epoch 24/25\n",
            "20000/20000 [==============================] - 146s 7ms/step - loss: 3.4362e-05 - acc: 1.0000 - val_loss: 1.1535 - val_acc: 0.8566\n",
            "Epoch 25/25\n",
            "20000/20000 [==============================] - 146s 7ms/step - loss: 2.6271e-05 - acc: 1.0000 - val_loss: 1.1718 - val_acc: 0.8562\n"
          ],
          "name": "stdout"
        }
      ]
    },
    {
      "cell_type": "markdown",
      "metadata": {
        "id": "hStUetjdNGPZ",
        "colab_type": "text"
      },
      "source": [
        "<h3>->모델 학습과정 설정하기</h3>\n",
        "model.compile(loss='binary_crossentropy', optimizer='adam', metrics=['accuracy'])\n",
        "\n",
        "\n",
        "<h3> -> 모델 학습시키기 </h3>\n",
        "hist = model.fit(x_train, y_train, epochs=25, batch_size=64, validation_data=(x_val, y_val))"
      ]
    },
    {
      "cell_type": "code",
      "metadata": {
        "id": "jiHPIVL4ToPo",
        "colab_type": "code",
        "colab": {
          "base_uri": "https://localhost:8080/",
          "height": 283
        },
        "outputId": "60c476c6-44d3-4dfc-c1f8-e58d5324911e"
      },
      "source": [
        "%matplotlib inline\n",
        "import matplotlib.pyplot as plt\n",
        "\n",
        "fig, loss_ax = plt.subplots()\n",
        "\n",
        "acc_ax = loss_ax.twinx()\n",
        "\n",
        "loss_ax.plot(hist.history['loss'], 'y', label='train loss')\n",
        "loss_ax.plot(hist.history['val_loss'], 'r', label='val loss')\n",
        "loss_ax.set_ylim([-0.2, 1.2])\n",
        "\n",
        "acc_ax.plot(hist.history['acc'], 'b', label='train acc')\n",
        "acc_ax.plot(hist.history['val_acc'], 'g', label='val acc')\n",
        "acc_ax.set_ylim([-0.2, 1.2])\n",
        "\n",
        "loss_ax.set_xlabel('epoch')\n",
        "loss_ax.set_ylabel('loss')\n",
        "acc_ax.set_ylabel('accuray')\n",
        "\n",
        "loss_ax.legend(loc='upper left')\n",
        "acc_ax.legend(loc='lower left')\n",
        "\n",
        "plt.show()"
      ],
      "execution_count": 24,
      "outputs": [
        {
          "output_type": "display_data",
          "data": {
            "image/png": "[encoded data removed]",
            "text/plain": [
              "<Figure size 432x288 with 2 Axes>"
            ]
          },
          "metadata": {
            "tags": []
          }
        }
      ]
    },
    {
      "cell_type": "markdown",
      "metadata": {
        "id": "98e5voHpOk08",
        "colab_type": "text"
      },
      "source": [
        "<h3> ->훈련과 검증 손실 분석</h3>\n",
        "훈련 손실이 에포크마다 감소하고 훈련 정확도는 에포크마다 증가합니다. 경사 하강법 최적화를 사용했을때 반복마다 최소화되는 것이 손실이므로 기대했던 예상입니다.3번째 순간부터 train loss보다 val loss가 역전하면서 급격하게 상승합니다. 즉, 이 말은 처음 보는 데이터에게는 잘 작동하지 않는 다는 것을 의미합니다. 이는 <b>Overfitting</b>되었다고 하는데, 훈련 데이터에 과도하게 최적화되어 훈련 데이터에 특화된 표현을 학습했다고 볼 수 있습니다."
      ]
    },
    {
      "cell_type": "code",
      "metadata": {
        "id": "LKxf0HsvKiqO",
        "colab_type": "code",
        "colab": {
          "base_uri": "https://localhost:8080/",
          "height": 73
        },
        "outputId": "211045c0-02e1-4e0c-d937-305e2f92548b"
      },
      "source": [
        "# 6. 모델 평가하기\n",
        "loss_and_metrics = model.evaluate(x_test, y_test, batch_size=64)\n",
        "print('## evaluation loss and_metrics ##')\n",
        "print(loss_and_metrics)"
      ],
      "execution_count": 25,
      "outputs": [
        {
          "output_type": "stream",
          "text": [
            "25000/25000 [==============================] - 88s 4ms/step\n",
            "## evaluation loss and_metrics ##\n",
            "[1.3320180743408203, 0.8447599999809265]\n"
          ],
          "name": "stdout"
        }
      ]
    },
    {
      "cell_type": "markdown",
      "metadata": {
        "id": "kvcEGzEqPsGj",
        "colab_type": "text"
      },
      "source": [
        "<h3>최종 정확도: 84.4%</h3>"
      ]
    }
  ]
}